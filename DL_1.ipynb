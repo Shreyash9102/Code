{
  "nbformat": 4,
  "nbformat_minor": 0,
  "metadata": {
    "colab": {
      "provenance": []
    },
    "kernelspec": {
      "name": "python3",
      "display_name": "Python 3"
    },
    "language_info": {
      "name": "python"
    }
  },
  "cells": [
    {
      "cell_type": "code",
      "source": [
        "pip install tensorflow"
      ],
      "metadata": {
        "colab": {
          "base_uri": "https://localhost:8080/"
        },
        "id": "aOF8Kp-B1cZ7",
        "outputId": "f972e18c-00d8-495d-89db-12c3746eb191"
      },
      "execution_count": 43,
      "outputs": [
        {
          "output_type": "stream",
          "name": "stdout",
          "text": [
            "Requirement already satisfied: tensorflow in /usr/local/lib/python3.10/dist-packages (2.15.0)\n",
            "Requirement already satisfied: absl-py>=1.0.0 in /usr/local/lib/python3.10/dist-packages (from tensorflow) (1.4.0)\n",
            "Requirement already satisfied: astunparse>=1.6.0 in /usr/local/lib/python3.10/dist-packages (from tensorflow) (1.6.3)\n",
            "Requirement already satisfied: flatbuffers>=23.5.26 in /usr/local/lib/python3.10/dist-packages (from tensorflow) (24.3.25)\n",
            "Requirement already satisfied: gast!=0.5.0,!=0.5.1,!=0.5.2,>=0.2.1 in /usr/local/lib/python3.10/dist-packages (from tensorflow) (0.5.4)\n",
            "Requirement already satisfied: google-pasta>=0.1.1 in /usr/local/lib/python3.10/dist-packages (from tensorflow) (0.2.0)\n",
            "Requirement already satisfied: h5py>=2.9.0 in /usr/local/lib/python3.10/dist-packages (from tensorflow) (3.9.0)\n",
            "Requirement already satisfied: libclang>=13.0.0 in /usr/local/lib/python3.10/dist-packages (from tensorflow) (18.1.1)\n",
            "Requirement already satisfied: ml-dtypes~=0.2.0 in /usr/local/lib/python3.10/dist-packages (from tensorflow) (0.2.0)\n",
            "Requirement already satisfied: numpy<2.0.0,>=1.23.5 in /usr/local/lib/python3.10/dist-packages (from tensorflow) (1.25.2)\n",
            "Requirement already satisfied: opt-einsum>=2.3.2 in /usr/local/lib/python3.10/dist-packages (from tensorflow) (3.3.0)\n",
            "Requirement already satisfied: packaging in /usr/local/lib/python3.10/dist-packages (from tensorflow) (24.0)\n",
            "Requirement already satisfied: protobuf!=4.21.0,!=4.21.1,!=4.21.2,!=4.21.3,!=4.21.4,!=4.21.5,<5.0.0dev,>=3.20.3 in /usr/local/lib/python3.10/dist-packages (from tensorflow) (3.20.3)\n",
            "Requirement already satisfied: setuptools in /usr/local/lib/python3.10/dist-packages (from tensorflow) (67.7.2)\n",
            "Requirement already satisfied: six>=1.12.0 in /usr/local/lib/python3.10/dist-packages (from tensorflow) (1.16.0)\n",
            "Requirement already satisfied: termcolor>=1.1.0 in /usr/local/lib/python3.10/dist-packages (from tensorflow) (2.4.0)\n",
            "Requirement already satisfied: typing-extensions>=3.6.6 in /usr/local/lib/python3.10/dist-packages (from tensorflow) (4.11.0)\n",
            "Requirement already satisfied: wrapt<1.15,>=1.11.0 in /usr/local/lib/python3.10/dist-packages (from tensorflow) (1.14.1)\n",
            "Requirement already satisfied: tensorflow-io-gcs-filesystem>=0.23.1 in /usr/local/lib/python3.10/dist-packages (from tensorflow) (0.36.0)\n",
            "Requirement already satisfied: grpcio<2.0,>=1.24.3 in /usr/local/lib/python3.10/dist-packages (from tensorflow) (1.62.2)\n",
            "Requirement already satisfied: tensorboard<2.16,>=2.15 in /usr/local/lib/python3.10/dist-packages (from tensorflow) (2.15.2)\n",
            "Requirement already satisfied: tensorflow-estimator<2.16,>=2.15.0 in /usr/local/lib/python3.10/dist-packages (from tensorflow) (2.15.0)\n",
            "Requirement already satisfied: keras<2.16,>=2.15.0 in /usr/local/lib/python3.10/dist-packages (from tensorflow) (2.15.0)\n",
            "Requirement already satisfied: wheel<1.0,>=0.23.0 in /usr/local/lib/python3.10/dist-packages (from astunparse>=1.6.0->tensorflow) (0.43.0)\n",
            "Requirement already satisfied: google-auth<3,>=1.6.3 in /usr/local/lib/python3.10/dist-packages (from tensorboard<2.16,>=2.15->tensorflow) (2.27.0)\n",
            "Requirement already satisfied: google-auth-oauthlib<2,>=0.5 in /usr/local/lib/python3.10/dist-packages (from tensorboard<2.16,>=2.15->tensorflow) (1.2.0)\n",
            "Requirement already satisfied: markdown>=2.6.8 in /usr/local/lib/python3.10/dist-packages (from tensorboard<2.16,>=2.15->tensorflow) (3.6)\n",
            "Requirement already satisfied: requests<3,>=2.21.0 in /usr/local/lib/python3.10/dist-packages (from tensorboard<2.16,>=2.15->tensorflow) (2.31.0)\n",
            "Requirement already satisfied: tensorboard-data-server<0.8.0,>=0.7.0 in /usr/local/lib/python3.10/dist-packages (from tensorboard<2.16,>=2.15->tensorflow) (0.7.2)\n",
            "Requirement already satisfied: werkzeug>=1.0.1 in /usr/local/lib/python3.10/dist-packages (from tensorboard<2.16,>=2.15->tensorflow) (3.0.2)\n",
            "Requirement already satisfied: cachetools<6.0,>=2.0.0 in /usr/local/lib/python3.10/dist-packages (from google-auth<3,>=1.6.3->tensorboard<2.16,>=2.15->tensorflow) (5.3.3)\n",
            "Requirement already satisfied: pyasn1-modules>=0.2.1 in /usr/local/lib/python3.10/dist-packages (from google-auth<3,>=1.6.3->tensorboard<2.16,>=2.15->tensorflow) (0.4.0)\n",
            "Requirement already satisfied: rsa<5,>=3.1.4 in /usr/local/lib/python3.10/dist-packages (from google-auth<3,>=1.6.3->tensorboard<2.16,>=2.15->tensorflow) (4.9)\n",
            "Requirement already satisfied: requests-oauthlib>=0.7.0 in /usr/local/lib/python3.10/dist-packages (from google-auth-oauthlib<2,>=0.5->tensorboard<2.16,>=2.15->tensorflow) (1.3.1)\n",
            "Requirement already satisfied: charset-normalizer<4,>=2 in /usr/local/lib/python3.10/dist-packages (from requests<3,>=2.21.0->tensorboard<2.16,>=2.15->tensorflow) (3.3.2)\n",
            "Requirement already satisfied: idna<4,>=2.5 in /usr/local/lib/python3.10/dist-packages (from requests<3,>=2.21.0->tensorboard<2.16,>=2.15->tensorflow) (3.7)\n",
            "Requirement already satisfied: urllib3<3,>=1.21.1 in /usr/local/lib/python3.10/dist-packages (from requests<3,>=2.21.0->tensorboard<2.16,>=2.15->tensorflow) (2.0.7)\n",
            "Requirement already satisfied: certifi>=2017.4.17 in /usr/local/lib/python3.10/dist-packages (from requests<3,>=2.21.0->tensorboard<2.16,>=2.15->tensorflow) (2024.2.2)\n",
            "Requirement already satisfied: MarkupSafe>=2.1.1 in /usr/local/lib/python3.10/dist-packages (from werkzeug>=1.0.1->tensorboard<2.16,>=2.15->tensorflow) (2.1.5)\n",
            "Requirement already satisfied: pyasn1<0.7.0,>=0.4.6 in /usr/local/lib/python3.10/dist-packages (from pyasn1-modules>=0.2.1->google-auth<3,>=1.6.3->tensorboard<2.16,>=2.15->tensorflow) (0.6.0)\n",
            "Requirement already satisfied: oauthlib>=3.0.0 in /usr/local/lib/python3.10/dist-packages (from requests-oauthlib>=0.7.0->google-auth-oauthlib<2,>=0.5->tensorboard<2.16,>=2.15->tensorflow) (3.2.2)\n"
          ]
        }
      ]
    },
    {
      "cell_type": "code",
      "source": [
        "import numpy as np\n",
        "import tensorflow as tf\n",
        "from tensorflow import keras\n",
        "from tensorflow.keras import Sequential\n",
        "from tensorflow.keras.layers import Dense,Flatten\n",
        "from sklearn import preprocessing\n",
        "\n"
      ],
      "metadata": {
        "id": "MNA4Rjin0zJs"
      },
      "execution_count": 44,
      "outputs": []
    },
    {
      "cell_type": "code",
      "source": [
        "(X_train,Y_train),(x_test,y_test)=keras.datasets.boston_housing.load_data()"
      ],
      "metadata": {
        "id": "3bkyApMi14pm"
      },
      "execution_count": 45,
      "outputs": []
    },
    {
      "cell_type": "code",
      "source": [
        "print(x_test.shape)\n",
        "y_test.shape"
      ],
      "metadata": {
        "colab": {
          "base_uri": "https://localhost:8080/"
        },
        "id": "GPeXvdgq2-jd",
        "outputId": "ca94193d-f507-474e-b068-e910c59d6750"
      },
      "execution_count": 46,
      "outputs": [
        {
          "output_type": "stream",
          "name": "stdout",
          "text": [
            "(102, 13)\n"
          ]
        },
        {
          "output_type": "execute_result",
          "data": {
            "text/plain": [
              "(102,)"
            ]
          },
          "metadata": {},
          "execution_count": 46
        }
      ]
    },
    {
      "cell_type": "code",
      "source": [
        "print(X_train.shape)\n",
        "Y_train.shape"
      ],
      "metadata": {
        "colab": {
          "base_uri": "https://localhost:8080/"
        },
        "id": "lNuCUaf024Lc",
        "outputId": "67d43046-1d6f-42ee-ac82-29b62684ae3b"
      },
      "execution_count": 47,
      "outputs": [
        {
          "output_type": "stream",
          "name": "stdout",
          "text": [
            "(404, 13)\n"
          ]
        },
        {
          "output_type": "execute_result",
          "data": {
            "text/plain": [
              "(404,)"
            ]
          },
          "metadata": {},
          "execution_count": 47
        }
      ]
    },
    {
      "cell_type": "code",
      "source": [
        "X_train[0]"
      ],
      "metadata": {
        "colab": {
          "base_uri": "https://localhost:8080/"
        },
        "id": "ZRQMzP825r5a",
        "outputId": "9293c1d1-9c50-4162-bf07-50f226695290"
      },
      "execution_count": 48,
      "outputs": [
        {
          "output_type": "execute_result",
          "data": {
            "text/plain": [
              "array([  1.23247,   0.     ,   8.14   ,   0.     ,   0.538  ,   6.142  ,\n",
              "        91.7    ,   3.9769 ,   4.     , 307.     ,  21.     , 396.9    ,\n",
              "        18.72   ])"
            ]
          },
          "metadata": {},
          "execution_count": 48
        }
      ]
    },
    {
      "cell_type": "code",
      "source": [
        "Y_train[0]"
      ],
      "metadata": {
        "colab": {
          "base_uri": "https://localhost:8080/"
        },
        "id": "EMBoWDqV5r15",
        "outputId": "209b58f3-eebd-45eb-cd2f-742258073169"
      },
      "execution_count": 49,
      "outputs": [
        {
          "output_type": "execute_result",
          "data": {
            "text/plain": [
              "15.2"
            ]
          },
          "metadata": {},
          "execution_count": 49
        }
      ]
    },
    {
      "cell_type": "code",
      "source": [
        "Y_train"
      ],
      "metadata": {
        "colab": {
          "base_uri": "https://localhost:8080/"
        },
        "id": "T0L2w3Jz5rzb",
        "outputId": "a5df8e41-3b6e-4d60-fd70-0c6f27e9c767"
      },
      "execution_count": 50,
      "outputs": [
        {
          "output_type": "execute_result",
          "data": {
            "text/plain": [
              "array([15.2, 42.3, 50. , 21.1, 17.7, 18.5, 11.3, 15.6, 15.6, 14.4, 12.1,\n",
              "       17.9, 23.1, 19.9, 15.7,  8.8, 50. , 22.5, 24.1, 27.5, 10.9, 30.8,\n",
              "       32.9, 24. , 18.5, 13.3, 22.9, 34.7, 16.6, 17.5, 22.3, 16.1, 14.9,\n",
              "       23.1, 34.9, 25. , 13.9, 13.1, 20.4, 20. , 15.2, 24.7, 22.2, 16.7,\n",
              "       12.7, 15.6, 18.4, 21. , 30.1, 15.1, 18.7,  9.6, 31.5, 24.8, 19.1,\n",
              "       22. , 14.5, 11. , 32. , 29.4, 20.3, 24.4, 14.6, 19.5, 14.1, 14.3,\n",
              "       15.6, 10.5,  6.3, 19.3, 19.3, 13.4, 36.4, 17.8, 13.5, 16.5,  8.3,\n",
              "       14.3, 16. , 13.4, 28.6, 43.5, 20.2, 22. , 23. , 20.7, 12.5, 48.5,\n",
              "       14.6, 13.4, 23.7, 50. , 21.7, 39.8, 38.7, 22.2, 34.9, 22.5, 31.1,\n",
              "       28.7, 46. , 41.7, 21. , 26.6, 15. , 24.4, 13.3, 21.2, 11.7, 21.7,\n",
              "       19.4, 50. , 22.8, 19.7, 24.7, 36.2, 14.2, 18.9, 18.3, 20.6, 24.6,\n",
              "       18.2,  8.7, 44. , 10.4, 13.2, 21.2, 37. , 30.7, 22.9, 20. , 19.3,\n",
              "       31.7, 32. , 23.1, 18.8, 10.9, 50. , 19.6,  5. , 14.4, 19.8, 13.8,\n",
              "       19.6, 23.9, 24.5, 25. , 19.9, 17.2, 24.6, 13.5, 26.6, 21.4, 11.9,\n",
              "       22.6, 19.6,  8.5, 23.7, 23.1, 22.4, 20.5, 23.6, 18.4, 35.2, 23.1,\n",
              "       27.9, 20.6, 23.7, 28. , 13.6, 27.1, 23.6, 20.6, 18.2, 21.7, 17.1,\n",
              "        8.4, 25.3, 13.8, 22.2, 18.4, 20.7, 31.6, 30.5, 20.3,  8.8, 19.2,\n",
              "       19.4, 23.1, 23. , 14.8, 48.8, 22.6, 33.4, 21.1, 13.6, 32.2, 13.1,\n",
              "       23.4, 18.9, 23.9, 11.8, 23.3, 22.8, 19.6, 16.7, 13.4, 22.2, 20.4,\n",
              "       21.8, 26.4, 14.9, 24.1, 23.8, 12.3, 29.1, 21. , 19.5, 23.3, 23.8,\n",
              "       17.8, 11.5, 21.7, 19.9, 25. , 33.4, 28.5, 21.4, 24.3, 27.5, 33.1,\n",
              "       16.2, 23.3, 48.3, 22.9, 22.8, 13.1, 12.7, 22.6, 15. , 15.3, 10.5,\n",
              "       24. , 18.5, 21.7, 19.5, 33.2, 23.2,  5. , 19.1, 12.7, 22.3, 10.2,\n",
              "       13.9, 16.3, 17. , 20.1, 29.9, 17.2, 37.3, 45.4, 17.8, 23.2, 29. ,\n",
              "       22. , 18. , 17.4, 34.6, 20.1, 25. , 15.6, 24.8, 28.2, 21.2, 21.4,\n",
              "       23.8, 31. , 26.2, 17.4, 37.9, 17.5, 20. ,  8.3, 23.9,  8.4, 13.8,\n",
              "        7.2, 11.7, 17.1, 21.6, 50. , 16.1, 20.4, 20.6, 21.4, 20.6, 36.5,\n",
              "        8.5, 24.8, 10.8, 21.9, 17.3, 18.9, 36.2, 14.9, 18.2, 33.3, 21.8,\n",
              "       19.7, 31.6, 24.8, 19.4, 22.8,  7.5, 44.8, 16.8, 18.7, 50. , 50. ,\n",
              "       19.5, 20.1, 50. , 17.2, 20.8, 19.3, 41.3, 20.4, 20.5, 13.8, 16.5,\n",
              "       23.9, 20.6, 31.5, 23.3, 16.8, 14. , 33.8, 36.1, 12.8, 18.3, 18.7,\n",
              "       19.1, 29. , 30.1, 50. , 50. , 22. , 11.9, 37.6, 50. , 22.7, 20.8,\n",
              "       23.5, 27.9, 50. , 19.3, 23.9, 22.6, 15.2, 21.7, 19.2, 43.8, 20.3,\n",
              "       33.2, 19.9, 22.5, 32.7, 22. , 17.1, 19. , 15. , 16.1, 25.1, 23.7,\n",
              "       28.7, 37.2, 22.6, 16.4, 25. , 29.8, 22.1, 17.4, 18.1, 30.3, 17.5,\n",
              "       24.7, 12.6, 26.5, 28.7, 13.3, 10.4, 24.4, 23. , 20. , 17.8,  7. ,\n",
              "       11.8, 24.4, 13.8, 19.4, 25.2, 19.4, 19.4, 29.1])"
            ]
          },
          "metadata": {},
          "execution_count": 50
        }
      ]
    },
    {
      "cell_type": "code",
      "source": [
        "X_train=preprocessing.normalize(X_train)"
      ],
      "metadata": {
        "id": "h0eK00IO5rwv"
      },
      "execution_count": 51,
      "outputs": []
    },
    {
      "cell_type": "code",
      "source": [
        "print(X_train[0].shape)\n",
        "X_train[0]\n"
      ],
      "metadata": {
        "colab": {
          "base_uri": "https://localhost:8080/"
        },
        "id": "lxYRkj3k9k-c",
        "outputId": "224a8843-ea6d-481d-80bf-1d4ec0b96a57"
      },
      "execution_count": 59,
      "outputs": [
        {
          "output_type": "stream",
          "name": "stdout",
          "text": [
            "(13,)\n"
          ]
        },
        {
          "output_type": "execute_result",
          "data": {
            "text/plain": [
              "array([0.0024119 , 0.        , 0.01592969, 0.        , 0.00105285,\n",
              "       0.01201967, 0.17945359, 0.00778265, 0.00782786, 0.6007879 ,\n",
              "       0.04109624, 0.77671895, 0.03663436])"
            ]
          },
          "metadata": {},
          "execution_count": 59
        }
      ]
    },
    {
      "cell_type": "code",
      "source": [
        "x_test[0]"
      ],
      "metadata": {
        "colab": {
          "base_uri": "https://localhost:8080/"
        },
        "id": "byeSmm7z5rq-",
        "outputId": "19f9f241-47e7-48d3-f09c-b4687b1bdb7a"
      },
      "execution_count": 52,
      "outputs": [
        {
          "output_type": "execute_result",
          "data": {
            "text/plain": [
              "array([ 18.0846,   0.    ,  18.1   ,   0.    ,   0.679 ,   6.434 ,\n",
              "       100.    ,   1.8347,  24.    , 666.    ,  20.2   ,  27.25  ,\n",
              "        29.05  ])"
            ]
          },
          "metadata": {},
          "execution_count": 52
        }
      ]
    },
    {
      "cell_type": "code",
      "source": [
        "x_test=preprocessing.normalize(x_test)"
      ],
      "metadata": {
        "id": "88QmUdfj5rjM"
      },
      "execution_count": 53,
      "outputs": []
    },
    {
      "cell_type": "code",
      "source": [
        "x_test[0]"
      ],
      "metadata": {
        "colab": {
          "base_uri": "https://localhost:8080/"
        },
        "id": "gBIyAby17dW0",
        "outputId": "e5faafd8-e3de-4571-ca43-4763996113b0"
      },
      "execution_count": 54,
      "outputs": [
        {
          "output_type": "execute_result",
          "data": {
            "text/plain": [
              "array([0.02675675, 0.        , 0.02677953, 0.        , 0.0010046 ,\n",
              "       0.00951931, 0.14795322, 0.0027145 , 0.03550877, 0.98536841,\n",
              "       0.02988655, 0.04031725, 0.04298041])"
            ]
          },
          "metadata": {},
          "execution_count": 54
        }
      ]
    },
    {
      "cell_type": "code",
      "source": [
        "X_train.shape"
      ],
      "metadata": {
        "colab": {
          "base_uri": "https://localhost:8080/"
        },
        "id": "cMfKKqQo9SQp",
        "outputId": "51031cdb-d2d0-4f37-80fb-44aa1fd31d47"
      },
      "execution_count": 55,
      "outputs": [
        {
          "output_type": "execute_result",
          "data": {
            "text/plain": [
              "(404, 13)"
            ]
          },
          "metadata": {},
          "execution_count": 55
        }
      ]
    },
    {
      "cell_type": "code",
      "source": [
        "model=Sequential()\n",
        "model.add(Dense(128,activation='relu',input_shape=X_train[0].shape))\n",
        "model.add(Dense(64,activation='relu'))\n",
        "model.add(Dense(32,activation='relu'))\n",
        "model.add(Dense(1))"
      ],
      "metadata": {
        "id": "7c-V0abF8qGg"
      },
      "execution_count": 62,
      "outputs": []
    },
    {
      "cell_type": "code",
      "source": [
        "model.summary()"
      ],
      "metadata": {
        "colab": {
          "base_uri": "https://localhost:8080/"
        },
        "id": "s9s9QIVV8qCL",
        "outputId": "cc8b0e93-5003-416d-a866-3523505991bd"
      },
      "execution_count": 63,
      "outputs": [
        {
          "output_type": "stream",
          "name": "stdout",
          "text": [
            "Model: \"sequential_3\"\n",
            "_________________________________________________________________\n",
            " Layer (type)                Output Shape              Param #   \n",
            "=================================================================\n",
            " dense_7 (Dense)             (None, 128)               1792      \n",
            "                                                                 \n",
            " dense_8 (Dense)             (None, 64)                8256      \n",
            "                                                                 \n",
            " dense_9 (Dense)             (None, 32)                2080      \n",
            "                                                                 \n",
            " dense_10 (Dense)            (None, 1)                 33        \n",
            "                                                                 \n",
            "=================================================================\n",
            "Total params: 12161 (47.50 KB)\n",
            "Trainable params: 12161 (47.50 KB)\n",
            "Non-trainable params: 0 (0.00 Byte)\n",
            "_________________________________________________________________\n"
          ]
        }
      ]
    },
    {
      "cell_type": "code",
      "source": [
        "model.compile(loss='mse',optimizer='rmsprop',metrics=['mae'])"
      ],
      "metadata": {
        "id": "jwg0f4FQ8p94"
      },
      "execution_count": 64,
      "outputs": []
    },
    {
      "cell_type": "code",
      "source": [
        "history=model.fit(X_train,Y_train,epochs=50,batch_size=1,verbose=1,validation_data=(x_test,y_test))"
      ],
      "metadata": {
        "colab": {
          "base_uri": "https://localhost:8080/"
        },
        "id": "kdwaKjp8-uSE",
        "outputId": "4008153a-107a-498f-cebf-bd7a30bd3576"
      },
      "execution_count": 65,
      "outputs": [
        {
          "output_type": "stream",
          "name": "stdout",
          "text": [
            "Epoch 1/50\n",
            "404/404 [==============================] - 2s 3ms/step - loss: 119.3614 - mae: 7.7977 - val_loss: 64.1850 - val_mae: 5.7931\n",
            "Epoch 2/50\n",
            "404/404 [==============================] - 1s 2ms/step - loss: 66.0221 - mae: 5.5936 - val_loss: 57.8005 - val_mae: 5.7366\n",
            "Epoch 3/50\n",
            "404/404 [==============================] - 1s 2ms/step - loss: 62.1110 - mae: 5.4606 - val_loss: 56.2213 - val_mae: 5.4795\n",
            "Epoch 4/50\n",
            "404/404 [==============================] - 1s 3ms/step - loss: 60.1909 - mae: 5.3390 - val_loss: 56.1523 - val_mae: 5.4012\n",
            "Epoch 5/50\n",
            "404/404 [==============================] - 2s 4ms/step - loss: 58.7823 - mae: 5.2530 - val_loss: 64.3918 - val_mae: 6.3958\n",
            "Epoch 6/50\n",
            "404/404 [==============================] - 1s 3ms/step - loss: 56.6519 - mae: 5.2119 - val_loss: 56.8740 - val_mae: 5.3345\n",
            "Epoch 7/50\n",
            "404/404 [==============================] - 1s 2ms/step - loss: 55.0471 - mae: 4.9841 - val_loss: 50.3787 - val_mae: 5.1043\n",
            "Epoch 8/50\n",
            "404/404 [==============================] - 1s 2ms/step - loss: 52.4556 - mae: 4.9236 - val_loss: 54.6468 - val_mae: 5.6988\n",
            "Epoch 9/50\n",
            "404/404 [==============================] - 1s 3ms/step - loss: 50.6081 - mae: 4.8464 - val_loss: 50.5343 - val_mae: 4.9687\n",
            "Epoch 10/50\n",
            "404/404 [==============================] - 1s 3ms/step - loss: 49.8690 - mae: 4.7979 - val_loss: 49.0809 - val_mae: 5.3346\n",
            "Epoch 11/50\n",
            "404/404 [==============================] - 1s 2ms/step - loss: 47.4862 - mae: 4.7047 - val_loss: 48.2115 - val_mae: 5.2895\n",
            "Epoch 12/50\n",
            "404/404 [==============================] - 1s 2ms/step - loss: 45.2898 - mae: 4.6965 - val_loss: 45.3633 - val_mae: 4.6509\n",
            "Epoch 13/50\n",
            "404/404 [==============================] - 1s 2ms/step - loss: 44.8716 - mae: 4.4974 - val_loss: 42.6234 - val_mae: 4.4832\n",
            "Epoch 14/50\n",
            "404/404 [==============================] - 1s 2ms/step - loss: 43.3229 - mae: 4.5055 - val_loss: 39.2086 - val_mae: 4.4503\n",
            "Epoch 15/50\n",
            "404/404 [==============================] - 1s 2ms/step - loss: 40.8820 - mae: 4.4037 - val_loss: 54.4283 - val_mae: 5.1660\n",
            "Epoch 16/50\n",
            "404/404 [==============================] - 1s 3ms/step - loss: 40.3826 - mae: 4.2769 - val_loss: 40.0318 - val_mae: 4.8057\n",
            "Epoch 17/50\n",
            "404/404 [==============================] - 1s 3ms/step - loss: 39.6537 - mae: 4.3933 - val_loss: 36.6537 - val_mae: 4.1532\n",
            "Epoch 18/50\n",
            "404/404 [==============================] - 1s 3ms/step - loss: 37.6944 - mae: 4.3263 - val_loss: 35.5148 - val_mae: 4.1176\n",
            "Epoch 19/50\n",
            "404/404 [==============================] - 1s 2ms/step - loss: 35.1286 - mae: 4.2314 - val_loss: 37.0416 - val_mae: 4.1721\n",
            "Epoch 20/50\n",
            "404/404 [==============================] - 1s 2ms/step - loss: 36.1802 - mae: 4.2340 - val_loss: 41.4164 - val_mae: 4.4399\n",
            "Epoch 21/50\n",
            "404/404 [==============================] - 1s 2ms/step - loss: 35.3643 - mae: 4.1251 - val_loss: 30.5859 - val_mae: 3.8968\n",
            "Epoch 22/50\n",
            "404/404 [==============================] - 1s 2ms/step - loss: 34.3263 - mae: 4.1307 - val_loss: 31.9431 - val_mae: 3.9258\n",
            "Epoch 23/50\n",
            "404/404 [==============================] - 1s 2ms/step - loss: 34.3130 - mae: 4.0576 - val_loss: 40.9200 - val_mae: 5.3273\n",
            "Epoch 24/50\n",
            "404/404 [==============================] - 1s 2ms/step - loss: 32.8902 - mae: 4.0095 - val_loss: 29.8458 - val_mae: 3.9532\n",
            "Epoch 25/50\n",
            "404/404 [==============================] - 1s 2ms/step - loss: 32.5868 - mae: 3.9451 - val_loss: 30.0703 - val_mae: 4.1373\n",
            "Epoch 26/50\n",
            "404/404 [==============================] - 1s 2ms/step - loss: 31.0297 - mae: 3.9531 - val_loss: 40.1967 - val_mae: 5.3975\n",
            "Epoch 27/50\n",
            "404/404 [==============================] - 1s 2ms/step - loss: 31.1531 - mae: 3.9600 - val_loss: 27.0993 - val_mae: 3.8600\n",
            "Epoch 28/50\n",
            "404/404 [==============================] - 1s 2ms/step - loss: 30.5967 - mae: 3.8805 - val_loss: 30.8186 - val_mae: 3.8710\n",
            "Epoch 29/50\n",
            "404/404 [==============================] - 1s 3ms/step - loss: 30.9901 - mae: 3.9258 - val_loss: 28.4780 - val_mae: 3.7629\n",
            "Epoch 30/50\n",
            "404/404 [==============================] - 1s 4ms/step - loss: 29.4108 - mae: 3.7824 - val_loss: 39.7789 - val_mae: 5.4824\n",
            "Epoch 31/50\n",
            "404/404 [==============================] - 1s 3ms/step - loss: 28.0282 - mae: 3.8308 - val_loss: 39.3362 - val_mae: 4.4965\n",
            "Epoch 32/50\n",
            "404/404 [==============================] - 1s 2ms/step - loss: 27.8087 - mae: 3.6963 - val_loss: 24.7106 - val_mae: 3.6184\n",
            "Epoch 33/50\n",
            "404/404 [==============================] - 1s 2ms/step - loss: 27.3827 - mae: 3.7173 - val_loss: 26.3185 - val_mae: 4.0149\n",
            "Epoch 34/50\n",
            "404/404 [==============================] - 1s 2ms/step - loss: 26.5674 - mae: 3.6345 - val_loss: 53.2862 - val_mae: 5.5155\n",
            "Epoch 35/50\n",
            "404/404 [==============================] - 1s 2ms/step - loss: 26.0025 - mae: 3.5906 - val_loss: 30.4132 - val_mae: 3.8306\n",
            "Epoch 36/50\n",
            "404/404 [==============================] - 1s 2ms/step - loss: 25.5838 - mae: 3.5312 - val_loss: 30.2652 - val_mae: 3.8318\n",
            "Epoch 37/50\n",
            "404/404 [==============================] - 1s 2ms/step - loss: 25.7618 - mae: 3.6008 - val_loss: 41.7371 - val_mae: 5.4496\n",
            "Epoch 38/50\n",
            "404/404 [==============================] - 1s 2ms/step - loss: 24.5273 - mae: 3.5119 - val_loss: 26.8454 - val_mae: 4.1217\n",
            "Epoch 39/50\n",
            "404/404 [==============================] - 1s 2ms/step - loss: 24.1745 - mae: 3.5511 - val_loss: 27.5912 - val_mae: 3.7701\n",
            "Epoch 40/50\n",
            "404/404 [==============================] - 1s 2ms/step - loss: 22.3463 - mae: 3.3996 - val_loss: 25.8673 - val_mae: 3.6294\n",
            "Epoch 41/50\n",
            "404/404 [==============================] - 1s 2ms/step - loss: 23.7610 - mae: 3.4052 - val_loss: 33.8607 - val_mae: 4.1651\n",
            "Epoch 42/50\n",
            "404/404 [==============================] - 1s 2ms/step - loss: 22.5609 - mae: 3.3229 - val_loss: 24.3702 - val_mae: 3.6137\n",
            "Epoch 43/50\n",
            "404/404 [==============================] - 1s 3ms/step - loss: 22.5694 - mae: 3.3466 - val_loss: 25.1269 - val_mae: 3.6217\n",
            "Epoch 44/50\n",
            "404/404 [==============================] - 1s 3ms/step - loss: 22.3843 - mae: 3.3752 - val_loss: 24.5148 - val_mae: 3.4992\n",
            "Epoch 45/50\n",
            "404/404 [==============================] - 1s 2ms/step - loss: 21.3020 - mae: 3.2971 - val_loss: 23.8561 - val_mae: 3.5656\n",
            "Epoch 46/50\n",
            "404/404 [==============================] - 1s 2ms/step - loss: 20.9477 - mae: 3.3494 - val_loss: 34.3460 - val_mae: 4.0714\n",
            "Epoch 47/50\n",
            "404/404 [==============================] - 1s 2ms/step - loss: 21.5983 - mae: 3.3675 - val_loss: 24.9437 - val_mae: 3.5676\n",
            "Epoch 48/50\n",
            "404/404 [==============================] - 1s 2ms/step - loss: 22.3087 - mae: 3.4009 - val_loss: 29.6410 - val_mae: 3.8918\n",
            "Epoch 49/50\n",
            "404/404 [==============================] - 1s 2ms/step - loss: 21.8585 - mae: 3.2949 - val_loss: 25.7066 - val_mae: 3.5276\n",
            "Epoch 50/50\n",
            "404/404 [==============================] - 1s 2ms/step - loss: 21.3770 - mae: 3.2752 - val_loss: 33.5437 - val_mae: 4.5064\n"
          ]
        }
      ]
    },
    {
      "cell_type": "code",
      "source": [
        "y_pred=model.predict(x_test)"
      ],
      "metadata": {
        "colab": {
          "base_uri": "https://localhost:8080/"
        },
        "id": "mcxD6cHwKNW4",
        "outputId": "2b27a967-2753-4c57-b107-6bc697fef83e"
      },
      "execution_count": 83,
      "outputs": [
        {
          "output_type": "stream",
          "name": "stdout",
          "text": [
            "4/4 [==============================] - 0s 3ms/step\n"
          ]
        }
      ]
    },
    {
      "cell_type": "code",
      "source": [
        "y_pred.shape"
      ],
      "metadata": {
        "colab": {
          "base_uri": "https://localhost:8080/"
        },
        "id": "o0dFsEaBNKvx",
        "outputId": "bb9aaf5a-ae1e-4f97-ff8e-00a558fd4b0e"
      },
      "execution_count": 100,
      "outputs": [
        {
          "output_type": "execute_result",
          "data": {
            "text/plain": [
              "(102, 1)"
            ]
          },
          "metadata": {},
          "execution_count": 100
        }
      ]
    },
    {
      "cell_type": "code",
      "source": [],
      "metadata": {
        "id": "Z0ZR5A36NKk1"
      },
      "execution_count": null,
      "outputs": []
    },
    {
      "cell_type": "code",
      "source": [
        "import matplotlib.pyplot as plt\n",
        "\n",
        "# Plot the actual vs. predicted values\n",
        "plt.figure(figsize=(8, 6))\n",
        "plt.scatter(y_test, y_pred, color='blue', label='Actual vs. Predicted')\n",
        "plt.plot([y_pred.min(), y_pred.max()], [y_pred.min(), y_pred.max()], 'k--', lw=2, label='Perfect Prediction')\n",
        "plt.xlabel('Actual Values')\n",
        "plt.ylabel('Predicted Values')\n",
        "plt.title('Actual vs. Predicted Values (Linear Regression)')\n",
        "plt.legend()\n",
        "plt.grid(True)\n",
        "plt.show()\n"
      ],
      "metadata": {
        "colab": {
          "base_uri": "https://localhost:8080/",
          "height": 564
        },
        "id": "396hRv5bKEBd",
        "outputId": "3e2b22ee-19e6-4f36-a1c9-c4bc6365d5b6"
      },
      "execution_count": 91,
      "outputs": [
        {
          "output_type": "display_data",
          "data": {
            "text/plain": [
              "<Figure size 800x600 with 1 Axes>"
            ],
            "image/png": "[encoded data removed]"
          },
          "metadata": {}
        }
      ]
    },
    {
      "cell_type": "code",
      "source": [
        "import matplotlib.pyplot as plt. #DO THIS BEFORE Normalization or strandardieztion\n",
        "for i in range(13):\n",
        "  plt.figure(figsize=(15, 5))\n",
        "  plt.xlabel('Average Number of Rooms')\n",
        "  plt.ylabel('Median Price [$K]')\n",
        "  plt.grid(\"on\")\n",
        "  plt.scatter(X_train[:,i], Y_train, color='green', alpha=0.5);\n",
        "\n"
      ],
      "metadata": {
        "id": "yu1nZeBCIR9r"
      },
      "execution_count": null,
      "outputs": []
    },
    {
      "cell_type": "code",
      "source": [],
      "metadata": {
        "id": "yGRohrdzPOlH"
      },
      "execution_count": null,
      "outputs": []
    },
    {
      "cell_type": "code",
      "source": [],
      "metadata": {
        "id": "KkudFxNPO6y8"
      },
      "execution_count": null,
      "outputs": []
    },
    {
      "cell_type": "code",
      "source": [
        "\n",
        "\n",
        "# Evaluate the model\n",
        "loss = model.evaluate(x_test, y_test)\n",
        "\n",
        "# Make predictions\n",
        "predictions = model.predict(x_test)\n",
        "\n",
        "# Calculate evaluation metrics\n",
        "from sklearn.metrics import mean_absolute_error, mean_squared_error, r2_score\n",
        "mae = mean_absolute_error(y_test, predictions)\n",
        "mse = mean_squared_error(y_test, predictions)\n",
        "rmse = np.sqrt(mse)\n",
        "r2 = r2_score(y_test, predictions)\n",
        "\n",
        "print(\"Mean Absolute Error:\", mae)\n",
        "print(\"Mean Squared Error:\", mse)\n",
        "print(\"Root Mean Squared Error:\", rmse)\n",
        "print(\"R-squared:\", r2)\n"
      ],
      "metadata": {
        "colab": {
          "base_uri": "https://localhost:8080/"
        },
        "id": "8F5lvLl0O6v0",
        "outputId": "71f69d12-04cf-46d3-da2f-adb8ff20038a"
      },
      "execution_count": 93,
      "outputs": [
        {
          "output_type": "stream",
          "name": "stdout",
          "text": [
            "4/4 [==============================] - 0s 4ms/step - loss: 33.5437 - mae: 4.5064\n",
            "4/4 [==============================] - 0s 3ms/step\n",
            "Mean Absolute Error: 4.506433028800815\n",
            "Mean Squared Error: 33.54372811225746\n",
            "Root Mean Squared Error: 5.791694753028466\n",
            "R-squared: 0.5970425597961287\n"
          ]
        }
      ]
    },
    {
      "cell_type": "code",
      "source": [],
      "metadata": {
        "id": "sIHVBbBsO6rS"
      },
      "execution_count": null,
      "outputs": []
    },
    {
      "cell_type": "code",
      "source": [
        "import matplotlib.pyplot as plt\n",
        "\n",
        "# Plot actual vs. predicted values\n",
        "plt.figure(figsize=(8, 6))\n",
        "plt.scatter(y_test, predictions, color='blue', label='Actual vs. Predicted')\n",
        "plt.plot([y_test.min(), y_test.max()], [predictions.min(), predictions.max()], 'k--', lw=2, label='Perfect Prediction')\n",
        "plt.xlabel('Actual Values')\n",
        "plt.ylabel('Predicted Values')\n",
        "plt.title('Actual vs. Predicted Values (Linear Regression)')\n",
        "plt.legend()\n",
        "plt.grid(True)\n",
        "plt.show()\n"
      ],
      "metadata": {
        "colab": {
          "base_uri": "https://localhost:8080/",
          "height": 564
        },
        "id": "NOCDzD95PPMM",
        "outputId": "fccc6e1d-278d-40d9-e248-96cf2777e2d9"
      },
      "execution_count": 96,
      "outputs": [
        {
          "output_type": "display_data",
          "data": {
            "text/plain": [
              "<Figure size 800x600 with 1 Axes>"
            ],
            "image/png": "[encoded data removed]"
          },
          "metadata": {}
        }
      ]
    },
    {
      "cell_type": "code",
      "source": [],
      "metadata": {
        "id": "C86TOHRnP0yf"
      },
      "execution_count": null,
      "outputs": []
    },
    {
      "cell_type": "code",
      "source": [],
      "metadata": {
        "id": "GNW2wqzeO6n8"
      },
      "execution_count": null,
      "outputs": []
    },
    {
      "cell_type": "code",
      "execution_count": 57,
      "metadata": {
        "colab": {
          "base_uri": "https://localhost:8080/",
          "height": 105
        },
        "id": "XweBjJ_ni1QL",
        "outputId": "083550cb-b363-4599-ba8c-5a4652f9a678"
      },
      "outputs": [
        {
          "output_type": "error",
          "ename": "SyntaxError",
          "evalue": "invalid syntax (<ipython-input-57-62e983d942c5>, line 39)",
          "traceback": [
            "\u001b[0;36m  File \u001b[0;32m\"<ipython-input-57-62e983d942c5>\"\u001b[0;36m, line \u001b[0;32m39\u001b[0m\n\u001b[0;31m    Model Building\u001b[0m\n\u001b[0m          ^\u001b[0m\n\u001b[0;31mSyntaxError\u001b[0m\u001b[0;31m:\u001b[0m invalid syntax\n"
          ]
        }
      ],
      "source": [
        "import numpy as np\n",
        "import tensorflow as tf\n",
        "from tensorflow import keras\n",
        "from tensorflow.keras import Sequential\n",
        "from tensorflow.keras.layers import Dense, Flatten\n",
        "from sklearn import preprocessing\n",
        "\n",
        "(X_train, Y_train), (X_test, Y_test) = keras.datasets.boston_housing.load_data()\n",
        "\n",
        "print(\"Training data shape:\", X_train.shape)\n",
        "print(\"Test data shape:\", X_test.shape)\n",
        "print(\"Train output data shape:\", Y_train.shape)\n",
        "print(\"Actual Test output data shape:\", Y_test.shape)\n",
        "\n",
        "X_train[0]\n",
        "\n",
        "Y_train[0]\n",
        "\n",
        "Y_train\n",
        "\n",
        "##Normalize the data\n",
        "\n",
        "X_train=preprocessing.normalize(X_train)\n",
        "\n",
        "X_train\n",
        "\n",
        "X_train[0]\n",
        "\n",
        "X_train[1]\n",
        "\n",
        "X_test=preprocessing.normalize(X_test)\n",
        "\n",
        "X_test\n",
        "\n",
        "X_test[0]\n",
        "\n",
        "Y_test[0]\n",
        "\n",
        "Model Building\n",
        "\n",
        "X_train[0].shape\n",
        "\n",
        "model = Sequential()\n",
        "model.add(Dense(128,activation='relu',input_shape= X_train[0].shape))\n",
        "model.add(Dense(64,activation='relu'))\n",
        "model.add(Dense(32,activation='relu'))\n",
        "model.add(Dense(1))\n",
        "\n",
        "model.summary()\n",
        "\n",
        "model.compile(loss='mse',optimizer='rmsprop',metrics=['mae'])\n",
        "\n",
        "history = model.fit(X_train,Y_train,epochs=100,batch_size=1,verbose=1,validation_data=(X_test,Y_test))\n",
        "\n",
        "\n",
        "\n",
        "#test_input=[(0.02675675,0.00000000,0.026779,0.0000000,0.0010046,0.00951931,0.14795322,0.0027145,0.03550877,0.98536841,0.02988655,0.04031725,0.04298041)]\n",
        "test_input=[(0.0024119 , 0.        , 0.01592969, 0.        , 0.00105285,\n",
        "       0.01201967, 0.17945359, 0.00778265, 0.00782786, 0.6007879 ,\n",
        "       0.04109624, 0.77671895, 0.03663436)]\n",
        "print(\"Actual output:15.2\")\n",
        "print(\"Predicted Output:\",model.predict(test_input))\n",
        "\n",
        "\n",
        "\n",
        "\n",
        "test_input=[(4.07923050e-05, 1.54587284e-01, 3.80378407e-03, 0.00000000e+00,\n",
        "       7.77620881e-04, 1.42595058e-02, 2.94184285e-02, 1.17486336e-02,\n",
        "       3.74757051e-03, 6.52077269e-01, 2.75446433e-02, 7.40857215e-01,\n",
        "       5.82747215e-03)]\n",
        "print(\"Actual output:42.3\")\n",
        "print(\"Predicted Output:\",model.predict(test_input))\n",
        "\n",
        "\n",
        "y_pred=model.predict(X_test)\n",
        "\n",
        "y_pred"
      ]
    }
  ]
}